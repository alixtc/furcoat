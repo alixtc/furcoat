{
 "cells": [
  {
   "cell_type": "markdown",
   "metadata": {},
   "source": [
    "# Examples\n",
    "\n",
    "This notebook contains a few examples on how to use `pelage`. The idea is to illustrate\n",
    "what the main features with an succession of checks / transformation. We use here a simple\n",
    "example: [the MPG dataset](https://github.com/mwaskom/seaborn-data), loaded using the seaborn utility function.\n",
    "\n",
    "\n",
    "## Imports"
   ]
  },
  {
   "cell_type": "code",
   "execution_count": 9,
   "metadata": {},
   "outputs": [
    {
     "data": {
      "text/html": [
       "<div><style>\n",
       ".dataframe > thead > tr,\n",
       ".dataframe > tbody > tr {\n",
       "  text-align: right;\n",
       "  white-space: pre-wrap;\n",
       "}\n",
       "</style>\n",
       "<small>shape: (5, 9)</small><table border=\"1\" class=\"dataframe\"><thead><tr><th>mpg</th><th>cylinders</th><th>displacement</th><th>horsepower</th><th>weight</th><th>acceleration</th><th>model_year</th><th>origin</th><th>name</th></tr><tr><td>f64</td><td>i64</td><td>f64</td><td>f64</td><td>i64</td><td>f64</td><td>i64</td><td>str</td><td>str</td></tr></thead><tbody><tr><td>18.0</td><td>8</td><td>307.0</td><td>130.0</td><td>3504</td><td>12.0</td><td>70</td><td>&quot;usa&quot;</td><td>&quot;chevrolet chev…</td></tr><tr><td>15.0</td><td>8</td><td>350.0</td><td>165.0</td><td>3693</td><td>11.5</td><td>70</td><td>&quot;usa&quot;</td><td>&quot;buick skylark …</td></tr><tr><td>18.0</td><td>8</td><td>318.0</td><td>150.0</td><td>3436</td><td>11.0</td><td>70</td><td>&quot;usa&quot;</td><td>&quot;plymouth satel…</td></tr><tr><td>16.0</td><td>8</td><td>304.0</td><td>150.0</td><td>3433</td><td>12.0</td><td>70</td><td>&quot;usa&quot;</td><td>&quot;amc rebel sst&quot;</td></tr><tr><td>17.0</td><td>8</td><td>302.0</td><td>140.0</td><td>3449</td><td>10.5</td><td>70</td><td>&quot;usa&quot;</td><td>&quot;ford torino&quot;</td></tr></tbody></table></div>"
      ],
      "text/plain": [
       "shape: (5, 9)\n",
       "┌──────┬───────────┬─────────────┬────────────┬───┬─────────────┬────────────┬────────┬────────────┐\n",
       "│ mpg  ┆ cylinders ┆ displacemen ┆ horsepower ┆ … ┆ acceleratio ┆ model_year ┆ origin ┆ name       │\n",
       "│ ---  ┆ ---       ┆ t           ┆ ---        ┆   ┆ n           ┆ ---        ┆ ---    ┆ ---        │\n",
       "│ f64  ┆ i64       ┆ ---         ┆ f64        ┆   ┆ ---         ┆ i64        ┆ str    ┆ str        │\n",
       "│      ┆           ┆ f64         ┆            ┆   ┆ f64         ┆            ┆        ┆            │\n",
       "╞══════╪═══════════╪═════════════╪════════════╪═══╪═════════════╪════════════╪════════╪════════════╡\n",
       "│ 18.0 ┆ 8         ┆ 307.0       ┆ 130.0      ┆ … ┆ 12.0        ┆ 70         ┆ usa    ┆ chevrolet  │\n",
       "│      ┆           ┆             ┆            ┆   ┆             ┆            ┆        ┆ chevelle   │\n",
       "│      ┆           ┆             ┆            ┆   ┆             ┆            ┆        ┆ malibu     │\n",
       "│ 15.0 ┆ 8         ┆ 350.0       ┆ 165.0      ┆ … ┆ 11.5        ┆ 70         ┆ usa    ┆ buick      │\n",
       "│      ┆           ┆             ┆            ┆   ┆             ┆            ┆        ┆ skylark    │\n",
       "│      ┆           ┆             ┆            ┆   ┆             ┆            ┆        ┆ 320        │\n",
       "│ 18.0 ┆ 8         ┆ 318.0       ┆ 150.0      ┆ … ┆ 11.0        ┆ 70         ┆ usa    ┆ plymouth   │\n",
       "│      ┆           ┆             ┆            ┆   ┆             ┆            ┆        ┆ satellite  │\n",
       "│ 16.0 ┆ 8         ┆ 304.0       ┆ 150.0      ┆ … ┆ 12.0        ┆ 70         ┆ usa    ┆ amc rebel  │\n",
       "│      ┆           ┆             ┆            ┆   ┆             ┆            ┆        ┆ sst        │\n",
       "│ 17.0 ┆ 8         ┆ 302.0       ┆ 140.0      ┆ … ┆ 10.5        ┆ 70         ┆ usa    ┆ ford       │\n",
       "│      ┆           ┆             ┆            ┆   ┆             ┆            ┆        ┆ torino     │\n",
       "└──────┴───────────┴─────────────┴────────────┴───┴─────────────┴────────────┴────────┴────────────┘"
      ]
     },
     "execution_count": 9,
     "metadata": {},
     "output_type": "execute_result"
    }
   ],
   "source": [
    "import polars as pl\n",
    "import seaborn as sns\n",
    "\n",
    "import pelage as plg\n",
    "\n",
    "data = pl.DataFrame(sns.load_dataset(\"mpg\"))\n",
    "data.head()"
   ]
  },
  {
   "cell_type": "markdown",
   "metadata": {},
   "source": [
    "## Basic data transformations\n",
    "\n",
    "In the following example, we perform some basic checks followed by a simple data \n",
    "transformation and finally checking for the presence of outliers. "
   ]
  },
  {
   "cell_type": "code",
   "execution_count": 10,
   "metadata": {},
   "outputs": [
    {
     "data": {
      "text/html": [
       "<div><style>\n",
       ".dataframe > thead > tr,\n",
       ".dataframe > tbody > tr {\n",
       "  text-align: right;\n",
       "  white-space: pre-wrap;\n",
       "}\n",
       "</style>\n",
       "<small>shape: (10, 5)</small><table border=\"1\" class=\"dataframe\"><thead><tr><th>origin</th><th>cylinders</th><th>model_year</th><th>n_distinct_models</th><th>avg_mpg</th></tr><tr><td>str</td><td>i64</td><td>i64</td><td>u32</td><td>f64</td></tr></thead><tbody><tr><td>&quot;usa&quot;</td><td>6</td><td>81</td><td>4</td><td>20.925</td></tr><tr><td>&quot;usa&quot;</td><td>4</td><td>80</td><td>6</td><td>27.05</td></tr><tr><td>&quot;usa&quot;</td><td>4</td><td>82</td><td>17</td><td>29.647059</td></tr><tr><td>&quot;japan&quot;</td><td>4</td><td>81</td><td>10</td><td>34.59</td></tr><tr><td>&quot;japan&quot;</td><td>4</td><td>80</td><td>11</td><td>36.709091</td></tr><tr><td>&quot;europe&quot;</td><td>4</td><td>81</td><td>3</td><td>31.866667</td></tr><tr><td>&quot;usa&quot;</td><td>6</td><td>82</td><td>3</td><td>28.333333</td></tr><tr><td>&quot;usa&quot;</td><td>4</td><td>81</td><td>7</td><td>30.95</td></tr><tr><td>&quot;europe&quot;</td><td>4</td><td>80</td><td>8</td><td>37.4</td></tr><tr><td>&quot;japan&quot;</td><td>4</td><td>82</td><td>9</td><td>34.888889</td></tr></tbody></table></div>"
      ],
      "text/plain": [
       "shape: (10, 5)\n",
       "┌────────┬───────────┬────────────┬───────────────────┬───────────┐\n",
       "│ origin ┆ cylinders ┆ model_year ┆ n_distinct_models ┆ avg_mpg   │\n",
       "│ ---    ┆ ---       ┆ ---        ┆ ---               ┆ ---       │\n",
       "│ str    ┆ i64       ┆ i64        ┆ u32               ┆ f64       │\n",
       "╞════════╪═══════════╪════════════╪═══════════════════╪═══════════╡\n",
       "│ usa    ┆ 6         ┆ 81         ┆ 4                 ┆ 20.925    │\n",
       "│ usa    ┆ 4         ┆ 80         ┆ 6                 ┆ 27.05     │\n",
       "│ usa    ┆ 4         ┆ 82         ┆ 17                ┆ 29.647059 │\n",
       "│ japan  ┆ 4         ┆ 81         ┆ 10                ┆ 34.59     │\n",
       "│ japan  ┆ 4         ┆ 80         ┆ 11                ┆ 36.709091 │\n",
       "│ europe ┆ 4         ┆ 81         ┆ 3                 ┆ 31.866667 │\n",
       "│ usa    ┆ 6         ┆ 82         ┆ 3                 ┆ 28.333333 │\n",
       "│ usa    ┆ 4         ┆ 81         ┆ 7                 ┆ 30.95     │\n",
       "│ europe ┆ 4         ┆ 80         ┆ 8                 ┆ 37.4      │\n",
       "│ japan  ┆ 4         ┆ 82         ┆ 9                 ┆ 34.888889 │\n",
       "└────────┴───────────┴────────────┴───────────────────┴───────────┘"
      ]
     },
     "execution_count": 10,
     "metadata": {},
     "output_type": "execute_result"
    }
   ],
   "source": [
    "average_mileage_per_zone = (\n",
    "    data.pipe(plg.has_no_nulls, [\"origin\", \"cylinders\", \"model_year\"])\n",
    "    .pipe(plg.accepted_range, {\"cylinders\": (3, 8)})\n",
    "    .pipe(plg.accepted_values, {\"origin\": [\"usa\", \"europe\", \"japan\"]})\n",
    "    .filter(pl.col(\"model_year\") >= 80)\n",
    "    .group_by(\"origin\", \"cylinders\", \"model_year\")\n",
    "    .agg(\n",
    "        n_distinct_models=pl.col(\"name\").n_unique(),\n",
    "        avg_mpg=pl.col(\"mpg\").mean(),\n",
    "    )\n",
    "    .filter(pl.col(\"n_distinct_models\") >= 3)\n",
    "    .pipe(plg.column_is_within_n_std, (\"avg_mpg\", 3))\n",
    ")\n",
    "average_mileage_per_zone"
   ]
  },
  {
   "cell_type": "markdown",
   "metadata": {},
   "source": [
    "# Focus on the errors\n",
    "\n",
    "## Error message\n",
    "\n",
    "When the check fails, a PolarsAssertError is raise. The error message tends to provide \n",
    "a summarized view of the problem that occurred during the check. "
   ]
  },
  {
   "cell_type": "code",
   "execution_count": 13,
   "metadata": {},
   "outputs": [
    {
     "ename": "PolarsAssertError",
     "evalue": "Details\nshape: (104, 9)\n┌──────┬───────────┬─────────────┬────────────┬───┬─────────────┬────────────┬────────┬────────────┐\n│ mpg  ┆ cylinders ┆ displacemen ┆ horsepower ┆ … ┆ acceleratio ┆ model_year ┆ origin ┆ name       │\n│ ---  ┆ ---       ┆ t           ┆ ---        ┆   ┆ n           ┆ ---        ┆ ---    ┆ ---        │\n│ f64  ┆ i64       ┆ ---         ┆ f64        ┆   ┆ ---         ┆ i64        ┆ str    ┆ str        │\n│      ┆           ┆ f64         ┆            ┆   ┆ f64         ┆            ┆        ┆            │\n╞══════╪═══════════╪═════════════╪════════════╪═══╪═════════════╪════════════╪════════╪════════════╡\n│ 18.0 ┆ 8         ┆ 307.0       ┆ 130.0      ┆ … ┆ 12.0        ┆ 70         ┆ usa    ┆ chevrolet  │\n│      ┆           ┆             ┆            ┆   ┆             ┆            ┆        ┆ chevelle   │\n│      ┆           ┆             ┆            ┆   ┆             ┆            ┆        ┆ malibu     │\n│ 15.0 ┆ 8         ┆ 350.0       ┆ 165.0      ┆ … ┆ 11.5        ┆ 70         ┆ usa    ┆ buick      │\n│      ┆           ┆             ┆            ┆   ┆             ┆            ┆        ┆ skylark    │\n│      ┆           ┆             ┆            ┆   ┆             ┆            ┆        ┆ 320        │\n│ 18.0 ┆ 8         ┆ 318.0       ┆ 150.0      ┆ … ┆ 11.0        ┆ 70         ┆ usa    ┆ plymouth   │\n│      ┆           ┆             ┆            ┆   ┆             ┆            ┆        ┆ satellite  │\n│ 16.0 ┆ 8         ┆ 304.0       ┆ 150.0      ┆ … ┆ 12.0        ┆ 70         ┆ usa    ┆ amc rebel  │\n│      ┆           ┆             ┆            ┆   ┆             ┆            ┆        ┆ sst        │\n│ 17.0 ┆ 8         ┆ 302.0       ┆ 140.0      ┆ … ┆ 10.5        ┆ 70         ┆ usa    ┆ ford       │\n│      ┆           ┆             ┆            ┆   ┆             ┆            ┆        ┆ torino     │\n│ …    ┆ …         ┆ …           ┆ …          ┆ … ┆ …           ┆ …          ┆ …      ┆ …          │\n│ 18.5 ┆ 8         ┆ 360.0       ┆ 150.0      ┆ … ┆ 13.0        ┆ 79         ┆ usa    ┆ chrysler   │\n│      ┆           ┆             ┆            ┆   ┆             ┆            ┆        ┆ lebaron    │\n│      ┆           ┆             ┆            ┆   ┆             ┆            ┆        ┆ town @     │\n│      ┆           ┆             ┆            ┆   ┆             ┆            ┆        ┆ country …  │\n│ 23.0 ┆ 8         ┆ 350.0       ┆ 125.0      ┆ … ┆ 17.4        ┆ 79         ┆ usa    ┆ cadillac   │\n│      ┆           ┆             ┆            ┆   ┆             ┆            ┆        ┆ eldorado   │\n│ 44.3 ┆ 4         ┆ 90.0        ┆ 48.0       ┆ … ┆ 21.7        ┆ 80         ┆ europe ┆ vw rabbit  │\n│      ┆           ┆             ┆            ┆   ┆             ┆            ┆        ┆ c (diesel) │\n│ 43.4 ┆ 4         ┆ 90.0        ┆ 48.0       ┆ … ┆ 23.7        ┆ 80         ┆ europe ┆ vw dasher  │\n│      ┆           ┆             ┆            ┆   ┆             ┆            ┆        ┆ (diesel)   │\n│ 26.6 ┆ 8         ┆ 350.0       ┆ 105.0      ┆ … ┆ 19.0        ┆ 81         ┆ usa    ┆ oldsmobile │\n│      ┆           ┆             ┆            ┆   ┆             ┆            ┆        ┆ cutlass ls │\n└──────┴───────────┴─────────────┴────────────┴───┴─────────────┴────────────┴────────┴────────────┘\nError with the DataFrame passed to the check function:\n-->Some values are beyond the acceptable ranges defined",
     "output_type": "error",
     "traceback": [
      "\u001b[0;31m---------------------------------------------------------------------------\u001b[0m",
      "\u001b[0;31mPolarsAssertError\u001b[0m                         Traceback (most recent call last)",
      "Cell \u001b[0;32mIn[13], line 2\u001b[0m\n\u001b[1;32m      1\u001b[0m (\n\u001b[0;32m----> 2\u001b[0m     \u001b[43mdata\u001b[49m\u001b[38;5;241;43m.\u001b[39;49m\u001b[43mpipe\u001b[49m\u001b[43m(\u001b[49m\n\u001b[1;32m      3\u001b[0m \u001b[43m        \u001b[49m\u001b[43mplg\u001b[49m\u001b[38;5;241;43m.\u001b[39;49m\u001b[43maccepted_range\u001b[49m\u001b[43m,\u001b[49m\n\u001b[1;32m      4\u001b[0m \u001b[43m        \u001b[49m\u001b[43m{\u001b[49m\u001b[38;5;124;43m\"\u001b[39;49m\u001b[38;5;124;43mdisplacement\u001b[39;49m\u001b[38;5;124;43m\"\u001b[39;49m\u001b[43m:\u001b[49m\u001b[43m \u001b[49m\u001b[43m(\u001b[49m\u001b[38;5;241;43m50\u001b[39;49m\u001b[43m,\u001b[49m\u001b[43m \u001b[49m\u001b[38;5;241;43m300\u001b[39;49m\u001b[43m)\u001b[49m\u001b[43m,\u001b[49m\u001b[43m \u001b[49m\u001b[38;5;124;43m\"\u001b[39;49m\u001b[38;5;124;43mhorsepower\u001b[39;49m\u001b[38;5;124;43m\"\u001b[39;49m\u001b[43m:\u001b[49m\u001b[43m \u001b[49m\u001b[43m(\u001b[49m\u001b[38;5;241;43m50\u001b[39;49m\u001b[43m,\u001b[49m\u001b[43m \u001b[49m\u001b[38;5;241;43m200\u001b[39;49m\u001b[43m)\u001b[49m\u001b[43m}\u001b[49m\u001b[43m,\u001b[49m\n\u001b[1;32m      5\u001b[0m \u001b[43m    \u001b[49m\u001b[43m)\u001b[49m\n\u001b[1;32m      6\u001b[0m )\n\u001b[1;32m      7\u001b[0m \u001b[38;5;66;03m# Generate a PolarsAssertError\u001b[39;00m\n",
      "File \u001b[0;32m~/.pyenv/versions/3.10.13/envs/FC3.10/lib/python3.10/site-packages/polars/dataframe/frame.py:5128\u001b[0m, in \u001b[0;36mDataFrame.pipe\u001b[0;34m(self, function, *args, **kwargs)\u001b[0m\n\u001b[1;32m   5063\u001b[0m \u001b[38;5;28;01mdef\u001b[39;00m \u001b[38;5;21mpipe\u001b[39m(\n\u001b[1;32m   5064\u001b[0m     \u001b[38;5;28mself\u001b[39m,\n\u001b[1;32m   5065\u001b[0m     function: Callable[Concatenate[DataFrame, P], T],\n\u001b[1;32m   5066\u001b[0m     \u001b[38;5;241m*\u001b[39margs: P\u001b[38;5;241m.\u001b[39margs,\n\u001b[1;32m   5067\u001b[0m     \u001b[38;5;241m*\u001b[39m\u001b[38;5;241m*\u001b[39mkwargs: P\u001b[38;5;241m.\u001b[39mkwargs,\n\u001b[1;32m   5068\u001b[0m ) \u001b[38;5;241m-\u001b[39m\u001b[38;5;241m>\u001b[39m T:\n\u001b[1;32m   5069\u001b[0m \u001b[38;5;250m    \u001b[39m\u001b[38;5;124;03m\"\"\"\u001b[39;00m\n\u001b[1;32m   5070\u001b[0m \u001b[38;5;124;03m    Offers a structured way to apply a sequence of user-defined functions (UDFs).\u001b[39;00m\n\u001b[1;32m   5071\u001b[0m \n\u001b[0;32m   (...)\u001b[0m\n\u001b[1;32m   5126\u001b[0m \u001b[38;5;124;03m    └─────┴─────┘\u001b[39;00m\n\u001b[1;32m   5127\u001b[0m \u001b[38;5;124;03m    \"\"\"\u001b[39;00m\n\u001b[0;32m-> 5128\u001b[0m     \u001b[38;5;28;01mreturn\u001b[39;00m \u001b[43mfunction\u001b[49m\u001b[43m(\u001b[49m\u001b[38;5;28;43mself\u001b[39;49m\u001b[43m,\u001b[49m\u001b[43m \u001b[49m\u001b[38;5;241;43m*\u001b[39;49m\u001b[43margs\u001b[49m\u001b[43m,\u001b[49m\u001b[43m \u001b[49m\u001b[38;5;241;43m*\u001b[39;49m\u001b[38;5;241;43m*\u001b[39;49m\u001b[43mkwargs\u001b[49m\u001b[43m)\u001b[49m\n",
      "File \u001b[0;32m~/code/alixtc/pelage/pelage/checks.py:987\u001b[0m, in \u001b[0;36maccepted_range\u001b[0;34m(data, items)\u001b[0m\n\u001b[1;32m    985\u001b[0m out_of_range \u001b[38;5;241m=\u001b[39m data\u001b[38;5;241m.\u001b[39mfilter(pl\u001b[38;5;241m.\u001b[39mExpr\u001b[38;5;241m.\u001b[39mor_(\u001b[38;5;241m*\u001b[39mforbidden_ranges))\n\u001b[1;32m    986\u001b[0m \u001b[38;5;28;01mif\u001b[39;00m \u001b[38;5;129;01mnot\u001b[39;00m out_of_range\u001b[38;5;241m.\u001b[39mis_empty():\n\u001b[0;32m--> 987\u001b[0m     \u001b[38;5;28;01mraise\u001b[39;00m PolarsAssertError(\n\u001b[1;32m    988\u001b[0m         out_of_range, \u001b[38;5;124m\"\u001b[39m\u001b[38;5;124mSome values are beyond the acceptable ranges defined\u001b[39m\u001b[38;5;124m\"\u001b[39m\n\u001b[1;32m    989\u001b[0m     )\n\u001b[1;32m    990\u001b[0m \u001b[38;5;28;01mreturn\u001b[39;00m data\n",
      "\u001b[0;31mPolarsAssertError\u001b[0m: Details\nshape: (104, 9)\n┌──────┬───────────┬─────────────┬────────────┬───┬─────────────┬────────────┬────────┬────────────┐\n│ mpg  ┆ cylinders ┆ displacemen ┆ horsepower ┆ … ┆ acceleratio ┆ model_year ┆ origin ┆ name       │\n│ ---  ┆ ---       ┆ t           ┆ ---        ┆   ┆ n           ┆ ---        ┆ ---    ┆ ---        │\n│ f64  ┆ i64       ┆ ---         ┆ f64        ┆   ┆ ---         ┆ i64        ┆ str    ┆ str        │\n│      ┆           ┆ f64         ┆            ┆   ┆ f64         ┆            ┆        ┆            │\n╞══════╪═══════════╪═════════════╪════════════╪═══╪═════════════╪════════════╪════════╪════════════╡\n│ 18.0 ┆ 8         ┆ 307.0       ┆ 130.0      ┆ … ┆ 12.0        ┆ 70         ┆ usa    ┆ chevrolet  │\n│      ┆           ┆             ┆            ┆   ┆             ┆            ┆        ┆ chevelle   │\n│      ┆           ┆             ┆            ┆   ┆             ┆            ┆        ┆ malibu     │\n│ 15.0 ┆ 8         ┆ 350.0       ┆ 165.0      ┆ … ┆ 11.5        ┆ 70         ┆ usa    ┆ buick      │\n│      ┆           ┆             ┆            ┆   ┆             ┆            ┆        ┆ skylark    │\n│      ┆           ┆             ┆            ┆   ┆             ┆            ┆        ┆ 320        │\n│ 18.0 ┆ 8         ┆ 318.0       ┆ 150.0      ┆ … ┆ 11.0        ┆ 70         ┆ usa    ┆ plymouth   │\n│      ┆           ┆             ┆            ┆   ┆             ┆            ┆        ┆ satellite  │\n│ 16.0 ┆ 8         ┆ 304.0       ┆ 150.0      ┆ … ┆ 12.0        ┆ 70         ┆ usa    ┆ amc rebel  │\n│      ┆           ┆             ┆            ┆   ┆             ┆            ┆        ┆ sst        │\n│ 17.0 ┆ 8         ┆ 302.0       ┆ 140.0      ┆ … ┆ 10.5        ┆ 70         ┆ usa    ┆ ford       │\n│      ┆           ┆             ┆            ┆   ┆             ┆            ┆        ┆ torino     │\n│ …    ┆ …         ┆ …           ┆ …          ┆ … ┆ …           ┆ …          ┆ …      ┆ …          │\n│ 18.5 ┆ 8         ┆ 360.0       ┆ 150.0      ┆ … ┆ 13.0        ┆ 79         ┆ usa    ┆ chrysler   │\n│      ┆           ┆             ┆            ┆   ┆             ┆            ┆        ┆ lebaron    │\n│      ┆           ┆             ┆            ┆   ┆             ┆            ┆        ┆ town @     │\n│      ┆           ┆             ┆            ┆   ┆             ┆            ┆        ┆ country …  │\n│ 23.0 ┆ 8         ┆ 350.0       ┆ 125.0      ┆ … ┆ 17.4        ┆ 79         ┆ usa    ┆ cadillac   │\n│      ┆           ┆             ┆            ┆   ┆             ┆            ┆        ┆ eldorado   │\n│ 44.3 ┆ 4         ┆ 90.0        ┆ 48.0       ┆ … ┆ 21.7        ┆ 80         ┆ europe ┆ vw rabbit  │\n│      ┆           ┆             ┆            ┆   ┆             ┆            ┆        ┆ c (diesel) │\n│ 43.4 ┆ 4         ┆ 90.0        ┆ 48.0       ┆ … ┆ 23.7        ┆ 80         ┆ europe ┆ vw dasher  │\n│      ┆           ┆             ┆            ┆   ┆             ┆            ┆        ┆ (diesel)   │\n│ 26.6 ┆ 8         ┆ 350.0       ┆ 105.0      ┆ … ┆ 19.0        ┆ 81         ┆ usa    ┆ oldsmobile │\n│      ┆           ┆             ┆            ┆   ┆             ┆            ┆        ┆ cutlass ls │\n└──────┴───────────┴─────────────┴────────────┴───┴─────────────┴────────────┴────────┴────────────┘\nError with the DataFrame passed to the check function:\n-->Some values are beyond the acceptable ranges defined"
     ]
    }
   ],
   "source": [
    "(\n",
    "    data.pipe(\n",
    "        plg.accepted_range,\n",
    "        {\"displacement\": (50, 300), \"horsepower\": (50, 200)},\n",
    "    )\n",
    ")\n",
    "# Generate a PolarsAssertError"
   ]
  },
  {
   "cell_type": "markdown",
   "metadata": {},
   "source": [
    "## Investigating the cause of the failure\n",
    "\n",
    "In addition to help theuser better understand the root cause of the check failure,\n",
    "the error object also possesses as `df` attribute that can contains the identified \n",
    "values causing the check to\n",
    "fail. \n",
    "\n",
    "Here is how to simply retrieve it without adding a `try/except` block. This allows us to print the error in a string format. "
   ]
  },
  {
   "cell_type": "code",
   "execution_count": null,
   "metadata": {},
   "outputs": [],
   "source": [
    "import sys\n",
    "\n",
    "error = sys.last_value\n",
    "\n",
    "print(error)"
   ]
  },
  {
   "cell_type": "markdown",
   "metadata": {},
   "source": [
    "You can then manipulate a subset dataframe containing the elements that triggered the exception. Here we do a few manipulations to determine what are the values that are outside the specified boundaries as well as their relative importance within the dataset. "
   ]
  },
  {
   "cell_type": "code",
   "execution_count": 15,
   "metadata": {},
   "outputs": [
    {
     "data": {
      "text/html": [
       "<div><style>\n",
       ".dataframe > thead > tr,\n",
       ".dataframe > tbody > tr {\n",
       "  text-align: right;\n",
       "  white-space: pre-wrap;\n",
       "}\n",
       "</style>\n",
       "<small>shape: (9, 3)</small><table border=\"1\" class=\"dataframe\"><thead><tr><th>statistic</th><th>displacement</th><th>horsepower</th></tr><tr><td>str</td><td>f64</td><td>f64</td></tr></thead><tbody><tr><td>&quot;count&quot;</td><td>104.0</td><td>104.0</td></tr><tr><td>&quot;null_count&quot;</td><td>0.0</td><td>0.0</td></tr><tr><td>&quot;mean&quot;</td><td>334.221154</td><td>154.278846</td></tr><tr><td>&quot;std&quot;</td><td>74.472899</td><td>37.102968</td></tr><tr><td>&quot;min&quot;</td><td>68.0</td><td>46.0</td></tr><tr><td>&quot;25%&quot;</td><td>305.0</td><td>140.0</td></tr><tr><td>&quot;50%&quot;</td><td>350.0</td><td>150.0</td></tr><tr><td>&quot;75%&quot;</td><td>360.0</td><td>175.0</td></tr><tr><td>&quot;max&quot;</td><td>455.0</td><td>230.0</td></tr></tbody></table></div>"
      ],
      "text/plain": [
       "shape: (9, 3)\n",
       "┌────────────┬──────────────┬────────────┐\n",
       "│ statistic  ┆ displacement ┆ horsepower │\n",
       "│ ---        ┆ ---          ┆ ---        │\n",
       "│ str        ┆ f64          ┆ f64        │\n",
       "╞════════════╪══════════════╪════════════╡\n",
       "│ count      ┆ 104.0        ┆ 104.0      │\n",
       "│ null_count ┆ 0.0          ┆ 0.0        │\n",
       "│ mean       ┆ 334.221154   ┆ 154.278846 │\n",
       "│ std        ┆ 74.472899    ┆ 37.102968  │\n",
       "│ min        ┆ 68.0         ┆ 46.0       │\n",
       "│ 25%        ┆ 305.0        ┆ 140.0      │\n",
       "│ 50%        ┆ 350.0        ┆ 150.0      │\n",
       "│ 75%        ┆ 360.0        ┆ 175.0      │\n",
       "│ max        ┆ 455.0        ┆ 230.0      │\n",
       "└────────────┴──────────────┴────────────┘"
      ]
     },
     "execution_count": 15,
     "metadata": {},
     "output_type": "execute_result"
    }
   ],
   "source": [
    "(\n",
    "    pl.DataFrame(error.df)  # This is only here to obtain syntax highlighting\n",
    "    .select(pl.col(\"displacement\", \"horsepower\"))\n",
    "    .describe()\n",
    ")"
   ]
  },
  {
   "cell_type": "code",
   "execution_count": null,
   "metadata": {},
   "outputs": [],
   "source": []
  }
 ],
 "metadata": {
  "kernelspec": {
   "display_name": "FC3.10",
   "language": "python",
   "name": "python3"
  },
  "language_info": {
   "codemirror_mode": {
    "name": "ipython",
    "version": 3
   },
   "file_extension": ".py",
   "mimetype": "text/x-python",
   "name": "python",
   "nbconvert_exporter": "python",
   "pygments_lexer": "ipython3",
   "version": "3.10.13"
  }
 },
 "nbformat": 4,
 "nbformat_minor": 2
}
