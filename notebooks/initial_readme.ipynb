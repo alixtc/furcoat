{
 "cells": [
  {
   "cell_type": "markdown",
   "metadata": {},
   "source": [
    "# Welcome to Furcoat!\n",
    "The goal of this project is to provide a simple way to test your `polars` code on the fly, while doing your analysis. The main idea is to chain a series of meaningful checks on your data so that you can continue and be more confident about your data quality. Here is how to use it:\n"
   ]
  },
  {
   "cell_type": "code",
   "execution_count": 2,
   "metadata": {},
   "outputs": [
    {
     "data": {
      "text/html": [
       "<div><style>\n",
       ".dataframe > thead > tr,\n",
       ".dataframe > tbody > tr {\n",
       "  text-align: right;\n",
       "  white-space: pre-wrap;\n",
       "}\n",
       "</style>\n",
       "<small>shape: (3, 3)</small><table border=\"1\" class=\"dataframe\"><thead><tr><th>a</th><th>b</th><th>new_a</th></tr><tr><td>i64</td><td>str</td><td>str</td></tr></thead><tbody><tr><td>1</td><td>&quot;a&quot;</td><td>&quot;1&quot;</td></tr><tr><td>2</td><td>&quot;b&quot;</td><td>&quot;2&quot;</td></tr><tr><td>3</td><td>&quot;c&quot;</td><td>&quot;3&quot;</td></tr></tbody></table></div>"
      ],
      "text/plain": [
       "shape: (3, 3)\n",
       "┌─────┬─────┬───────┐\n",
       "│ a   ┆ b   ┆ new_a │\n",
       "│ --- ┆ --- ┆ ---   │\n",
       "│ i64 ┆ str ┆ str   │\n",
       "╞═════╪═════╪═══════╡\n",
       "│ 1   ┆ a   ┆ 1     │\n",
       "│ 2   ┆ b   ┆ 2     │\n",
       "│ 3   ┆ c   ┆ 3     │\n",
       "└─────┴─────┴───────┘"
      ]
     },
     "execution_count": 2,
     "metadata": {},
     "output_type": "execute_result"
    }
   ],
   "source": [
    "import polars as pl\n",
    "\n",
    "from furcoat import checks\n",
    "\n",
    "validated_data = (\n",
    "    pl.DataFrame(\n",
    "        {\n",
    "            \"a\": [1, 2, 3],\n",
    "            \"b\": [\"a\", \"b\", \"c\"],\n",
    "        }\n",
    "    )\n",
    "    .pipe(checks.has_shape, (3, 2))\n",
    "    .pipe(checks.has_no_nulls)\n",
    "    .with_columns(pl.col(\"a\").cast(str).alias(\"new_a\"))\n",
    ")\n",
    "\n",
    "validated_data"
   ]
  },
  {
   "cell_type": "markdown",
   "metadata": {},
   "source": [
    "Here is a example of the error messages that if the checks fail:"
   ]
  },
  {
   "cell_type": "code",
   "execution_count": 3,
   "metadata": {},
   "outputs": [
    {
     "name": "stdout",
     "output_type": "stream",
     "text": [
      "\n",
      "shape: (1, 3)\n",
      "┌─────┬─────┬───────┐\n",
      "│ a   ┆ b   ┆ new_a │\n",
      "│ --- ┆ --- ┆ ---   │\n",
      "│ i64 ┆ str ┆ str   │\n",
      "╞═════╪═════╪═══════╡\n",
      "│ 3   ┆ c   ┆ 3     │\n",
      "└─────┴─────┴───────┘\n",
      "There is an error in the DataFrame passed to the check function:\n",
      "-->This DataFrame contains values marked as forbidden\n"
     ]
    }
   ],
   "source": [
    "try:\n",
    "    validated_data.pipe(checks.not_accepted_values, {\"new_a\": [\"3\"]})\n",
    "except Exception as err:\n",
    "    print(err)"
   ]
  },
  {
   "cell_type": "markdown",
   "metadata": {},
   "source": [
    "\n",
    "Here are the main keys points:\n",
    "\n",
    "- Each `furcoat` check returns the original `polars` DataFrame if the data is valid. It allows you continue your analysis by chaining additional transformations.\n",
    "\n",
    "- `furcoat` raises an meaningful error message each time the data does not meet your\n",
    "expectations.\n",
    "\n",
    "\n",
    "# Installation\n",
    "\n",
    "Install the package directly via PIP:\n",
    "\n",
    "```bash\n",
    "pip install furcoat\n",
    "```\n",
    "# Main Concepts\n",
    "\n",
    "**Defensive analysis:**\n",
    "\n",
    "The main idea of `furcoat` is to leverage your possibility for defensive analysis, similarly to other python packages such as \"bulwark\" or \"engarde\". However `furcoat` rely mainly on possibility to directly pipe and chain transformations provided by the fantastic `polars` API rather than using decorators.\n",
    "\n",
    "Additionally, some efforts have been put to have type hints for the provided functions in order to ensure full compatibility with your IDE across your chaining.\n",
    "\n",
    "**Interoperability:**\n",
    "\n",
    "The polars DSL and syntax have been develop with the idea to make the transition to SQL much easier. In this perspective, `furcoat` wants to facilitate the use of tests to ensure data quality while enabling a possible transition towards SQL, and using the same tests in SQL. This is why we implemented most of the checks that have been developed for `DBT` tool box, notably :\n",
    "\n",
    "- [DBT generic checks](https://docs.getdbt.com/docs/build/data-tests#generic-data-tests)\n",
    "- [DBT utils test](https://github.com/dbt-labs/dbt-utils?tab=readme-ov-file)\n",
    "- (Soon to comme: DBT expectations)\n",
    "\n",
    "We believe that data quality checks should be written as close as possible to the data exploration phase, and we hope that providing theses checks in a context where it is easier to visualize your data will be helpful. Similarly, we know that it is sometimes much easier to industrialize SQL data pipelines, in this perspective the similarity between `furcoat` and `dbt` testing capabilities should make the transition much smoother.\n",
    "\n",
    "**Leveraging `polars` <u>blazing speed</u>:**\n",
    "\n",
    "Although it is written in python most of `furcoat` checks are written in a way that enable the polars API to work its magic. We try to use a syntax that is compatible with fast execution and parallelism provided by polars.\n",
    "\n",
    "Note: For now, only the classical DataFrame API is available, but we plan to implement the LazyFrame API soon enough.\n"
   ]
  }
 ],
 "metadata": {
  "kernelspec": {
   "display_name": "FC3.10",
   "language": "python",
   "name": "python3"
  },
  "language_info": {
   "codemirror_mode": {
    "name": "ipython",
    "version": 3
   },
   "file_extension": ".py",
   "mimetype": "text/x-python",
   "name": "python",
   "nbconvert_exporter": "python",
   "pygments_lexer": "ipython3",
   "version": "3.10.13"
  }
 },
 "nbformat": 4,
 "nbformat_minor": 2
}
